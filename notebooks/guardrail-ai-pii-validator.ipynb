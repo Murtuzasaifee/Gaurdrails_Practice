{
 "cells": [
  {
   "cell_type": "markdown",
   "id": "809fc961",
   "metadata": {},
   "source": [
    "Detect PII Validator"
   ]
  },
  {
   "cell_type": "code",
   "execution_count": 2,
   "id": "30efc4da",
   "metadata": {},
   "outputs": [
    {
     "name": "stdout",
     "output_type": "stream",
     "text": [
      "Installing hub:\u001b[35m/\u001b[0m\u001b[35m/guardrails/\u001b[0m\u001b[95mdetect_pii...\u001b[0m\n",
      "\u001b[2K\u001b[32m[====]\u001b[0m Fetching manifestst\n",
      "\u001b[2K\u001b[32m[   =]\u001b[0m Downloading dependenciespendencies\n",
      "\u001b[2K\u001b[32m[   =]\u001b[0m Running post-install setuptall setup\n",
      "\u001b[1A\u001b[2K✅Successfully installed guardrails/detect_pii version \u001b[1;36m0.0\u001b[0m.\u001b[1;36m5\u001b[0m!\n",
      "\n",
      "\n",
      "\u001b[1mImport validator:\u001b[0m\n",
      "from guardrails.hub import DetectPII\n",
      "\n",
      "\u001b[1mGet more info:\u001b[0m\n",
      "\u001b[4;94mhttps://hub.guardrailsai.com/validator/guardrails/detect_pii\u001b[0m\n",
      "\n"
     ]
    }
   ],
   "source": [
    "## Install PII Validator\n",
    "\n",
    "!guardrails hub install hub://guardrails/detect_pii"
   ]
  },
  {
   "cell_type": "code",
   "execution_count": 3,
   "id": "4812515f",
   "metadata": {},
   "outputs": [],
   "source": [
    "from guardrails.hub import DetectPII\n",
    "from guardrails import Guard\n",
    "from rich import print"
   ]
  },
  {
   "cell_type": "code",
   "execution_count": 4,
   "id": "34a4831f",
   "metadata": {},
   "outputs": [],
   "source": [
    "def validate_result(response):\n",
    "    if response.validation_passed:\n",
    "        print(\"Prompt doesn't contain any PII\")\n",
    "    else:\n",
    "        print(\"Prompt contains PII Data\")\n",
    "        \n",
    "    print(response.validated_output)"
   ]
  },
  {
   "cell_type": "code",
   "execution_count": 13,
   "id": "0971f238",
   "metadata": {},
   "outputs": [
    {
     "data": {
      "text/html": [
       "<pre style=\"white-space:pre;overflow-x:auto;line-height:normal;font-family:Menlo,'DejaVu Sans Mono',consolas,'Courier New',monospace\">Prompt doesn't contain any PII\n",
       "</pre>\n"
      ],
      "text/plain": [
       "Prompt doesn't contain any PII\n"
      ]
     },
     "metadata": {},
     "output_type": "display_data"
    },
    {
     "data": {
      "text/html": [
       "<pre style=\"white-space:pre;overflow-x:auto;line-height:normal;font-family:Menlo,'DejaVu Sans Mono',consolas,'Courier New',monospace\">Please send these details to my email address\n",
       "</pre>\n"
      ],
      "text/plain": [
       "Please send these details to my email address\n"
      ]
     },
     "metadata": {},
     "output_type": "display_data"
    }
   ],
   "source": [
    "## No output on the failed response\n",
    "guard = Guard().use(\n",
    "    DetectPII(pii_entities=[\"EMAIL_ADDRESS\", \"PHONE_NUMBER\"], on_fail=\"noop\")\n",
    ")\n",
    "\n",
    "response = guard.validate(\"Please send these details to my email address\")\n",
    "validate_result(response)"
   ]
  },
  {
   "cell_type": "code",
   "execution_count": 8,
   "id": "fe367159",
   "metadata": {},
   "outputs": [
    {
     "data": {
      "text/html": [
       "<pre style=\"white-space:pre;overflow-x:auto;line-height:normal;font-family:Menlo,'DejaVu Sans Mono',consolas,'Courier New',monospace\">Prompt contains PII Data\n",
       "</pre>\n"
      ],
      "text/plain": [
       "Prompt contains PII Data\n"
      ]
     },
     "metadata": {},
     "output_type": "display_data"
    },
    {
     "data": {
      "text/html": [
       "<pre style=\"white-space:pre;overflow-x:auto;line-height:normal;font-family:Menlo,'DejaVu Sans Mono',consolas,'Courier New',monospace\">Please send these details to my email address ai_guy@somedomain.com\n",
       "</pre>\n"
      ],
      "text/plain": [
       "Please send these details to my email address ai_guy@somedomain.com\n"
      ]
     },
     "metadata": {},
     "output_type": "display_data"
    }
   ],
   "source": [
    "## No output on the failed response\n",
    "guard = Guard().use(\n",
    "    DetectPII(pii_entities=[\"EMAIL_ADDRESS\", \"PHONE_NUMBER\"], on_fail=\"noop\")\n",
    ")\n",
    "\n",
    "response = guard.validate(\"Please send these details to my email address ai_guy@somedomain.com\")\n",
    "     \n",
    "validate_result(response)"
   ]
  },
  {
   "cell_type": "code",
   "execution_count": 9,
   "id": "2c7cb57b",
   "metadata": {},
   "outputs": [
    {
     "data": {
      "text/html": [
       "<pre style=\"white-space:pre;overflow-x:auto;line-height:normal;font-family:Menlo,'DejaVu Sans Mono',consolas,'Courier New',monospace\">Prompt doesn't contain any PII\n",
       "</pre>\n"
      ],
      "text/plain": [
       "Prompt doesn't contain any PII\n"
      ]
     },
     "metadata": {},
     "output_type": "display_data"
    },
    {
     "data": {
      "text/html": [
       "<pre style=\"white-space:pre;overflow-x:auto;line-height:normal;font-family:Menlo,'DejaVu Sans Mono',consolas,'Courier New',monospace\">Please send these details to my email address <span style=\"font-weight: bold\">&lt;</span><span style=\"color: #ff00ff; text-decoration-color: #ff00ff; font-weight: bold\">EMAIL_ADDRESS</span><span style=\"font-weight: bold\">&gt;</span>\n",
       "</pre>\n"
      ],
      "text/plain": [
       "Please send these details to my email address \u001b[1m<\u001b[0m\u001b[1;95mEMAIL_ADDRESS\u001b[0m\u001b[1m>\u001b[0m\n"
      ]
     },
     "metadata": {},
     "output_type": "display_data"
    }
   ],
   "source": [
    "## Fix on_fail\n",
    "guard = Guard().use(\n",
    "    DetectPII(pii_entities=[\"EMAIL_ADDRESS\", \"PHONE_NUMBER\"], on_fail=\"fix\")\n",
    ")\n",
    "\n",
    "response = guard.validate(\"Please send these details to my email address ai_guy@somedomain.com\")\n",
    "\n",
    "# print(response)\n",
    "\n",
    "validate_result(response)\n"
   ]
  },
  {
   "cell_type": "code",
   "execution_count": 10,
   "id": "71b18eae",
   "metadata": {},
   "outputs": [
    {
     "data": {
      "text/html": [
       "<pre style=\"white-space:pre;overflow-x:auto;line-height:normal;font-family:Menlo,'DejaVu Sans Mono',consolas,'Courier New',monospace\">Prompt doesn't contain any PII\n",
       "</pre>\n"
      ],
      "text/plain": [
       "Prompt doesn't contain any PII\n"
      ]
     },
     "metadata": {},
     "output_type": "display_data"
    },
    {
     "data": {
      "text/html": [
       "<pre style=\"white-space:pre;overflow-x:auto;line-height:normal;font-family:Menlo,'DejaVu Sans Mono',consolas,'Courier New',monospace\">Please send these details to my email address <span style=\"font-weight: bold\">&lt;</span><span style=\"color: #ff00ff; text-decoration-color: #ff00ff; font-weight: bold\">EMAIL_ADDRESS</span><span style=\"font-weight: bold\">&gt;</span>\n",
       "</pre>\n"
      ],
      "text/plain": [
       "Please send these details to my email address \u001b[1m<\u001b[0m\u001b[1;95mEMAIL_ADDRESS\u001b[0m\u001b[1m>\u001b[0m\n"
      ]
     },
     "metadata": {},
     "output_type": "display_data"
    }
   ],
   "source": [
    "## Reask on Fail\n",
    "guard = Guard().use(\n",
    "    DetectPII(pii_entities=[\"EMAIL_ADDRESS\", \"PHONE_NUMBER\"], on_fail=\"reask\")\n",
    ")\n",
    "\n",
    "response = guard.validate(\"Please send these details to my email address ai_guy@somedomain.com\")\n",
    "\n",
    "# print(response)\n",
    "validate_result(response)"
   ]
  },
  {
   "cell_type": "code",
   "execution_count": null,
   "id": "13c562b8",
   "metadata": {},
   "outputs": [
    {
     "data": {
      "text/html": [
       "<pre style=\"white-space:pre;overflow-x:auto;line-height:normal;font-family:Menlo,'DejaVu Sans Mono',consolas,'Courier New',monospace\">Detected violation:\n",
       "<span style=\"color: #800080; text-decoration-color: #800080; font-weight: bold\">FailResult</span><span style=\"font-weight: bold\">(</span>\n",
       "    <span style=\"color: #808000; text-decoration-color: #808000\">outcome</span>=<span style=\"color: #008000; text-decoration-color: #008000\">'fail'</span>,\n",
       "    <span style=\"color: #808000; text-decoration-color: #808000\">error_message</span>=<span style=\"color: #008000; text-decoration-color: #008000\">'The following text in your response contains PII:\\nPlease send these details to my email address</span>\n",
       "<span style=\"color: #008000; text-decoration-color: #008000\">ai_guy@somedomain.com'</span>,\n",
       "    <span style=\"color: #808000; text-decoration-color: #808000\">fix_value</span>=<span style=\"color: #008000; text-decoration-color: #008000\">'Please send these details to my email address &lt;EMAIL_ADDRESS&gt;'</span>,\n",
       "    <span style=\"color: #808000; text-decoration-color: #808000\">error_spans</span>=<span style=\"font-weight: bold\">[</span><span style=\"color: #800080; text-decoration-color: #800080; font-weight: bold\">ErrorSpan</span><span style=\"font-weight: bold\">(</span><span style=\"color: #808000; text-decoration-color: #808000\">start</span>=<span style=\"color: #008080; text-decoration-color: #008080; font-weight: bold\">46</span>, <span style=\"color: #808000; text-decoration-color: #808000\">end</span>=<span style=\"color: #008080; text-decoration-color: #008080; font-weight: bold\">48</span>, <span style=\"color: #808000; text-decoration-color: #808000\">reason</span>=<span style=\"color: #008000; text-decoration-color: #008000\">'PII detected in ai'</span><span style=\"font-weight: bold\">)]</span>,\n",
       "    <span style=\"color: #808000; text-decoration-color: #808000\">metadata</span>=<span style=\"color: #800080; text-decoration-color: #800080; font-style: italic\">None</span>,\n",
       "    <span style=\"color: #808000; text-decoration-color: #808000\">validated_chunk</span>=<span style=\"color: #800080; text-decoration-color: #800080; font-style: italic\">None</span>\n",
       "<span style=\"font-weight: bold\">)</span>\n",
       "Detected violation:\n",
       "<span style=\"color: #800080; text-decoration-color: #800080; font-weight: bold\">FailResult</span><span style=\"font-weight: bold\">(</span>\n",
       "    <span style=\"color: #808000; text-decoration-color: #808000\">outcome</span>=<span style=\"color: #008000; text-decoration-color: #008000\">'fail'</span>,\n",
       "    <span style=\"color: #808000; text-decoration-color: #808000\">error_message</span>=<span style=\"color: #008000; text-decoration-color: #008000\">'The following text in your response contains PII:\\nPlease send these details to my email address</span>\n",
       "<span style=\"color: #008000; text-decoration-color: #008000\">ai_guy@somedomain.com'</span>,\n",
       "    <span style=\"color: #808000; text-decoration-color: #808000\">fix_value</span>=<span style=\"color: #008000; text-decoration-color: #008000\">'Please send these details to my email address &lt;EMAIL_ADDRESS&gt;'</span>,\n",
       "    <span style=\"color: #808000; text-decoration-color: #808000\">error_spans</span>=<span style=\"font-weight: bold\">[</span><span style=\"color: #800080; text-decoration-color: #800080; font-weight: bold\">ErrorSpan</span><span style=\"font-weight: bold\">(</span><span style=\"color: #808000; text-decoration-color: #808000\">start</span>=<span style=\"color: #008080; text-decoration-color: #008080; font-weight: bold\">46</span>, <span style=\"color: #808000; text-decoration-color: #808000\">end</span>=<span style=\"color: #008080; text-decoration-color: #008080; font-weight: bold\">48</span>, <span style=\"color: #808000; text-decoration-color: #808000\">reason</span>=<span style=\"color: #008000; text-decoration-color: #008000\">'PII detected in ai'</span><span style=\"font-weight: bold\">)]</span>,\n",
       "    <span style=\"color: #808000; text-decoration-color: #808000\">metadata</span>=<span style=\"color: #800080; text-decoration-color: #800080; font-style: italic\">None</span>,\n",
       "    <span style=\"color: #808000; text-decoration-color: #808000\">validated_chunk</span>=<span style=\"color: #800080; text-decoration-color: #800080; font-style: italic\">None</span>\n",
       "<span style=\"font-weight: bold\">)</span>\n",
       "<span style=\"color: #800080; text-decoration-color: #800080; font-weight: bold\">ValidationOutcome</span><span style=\"font-weight: bold\">(</span>\n",
       "    <span style=\"color: #808000; text-decoration-color: #808000\">call_id</span>=<span style=\"color: #008000; text-decoration-color: #008000\">'13839414000'</span>,\n",
       "    <span style=\"color: #808000; text-decoration-color: #808000\">raw_llm_output</span>=<span style=\"color: #008000; text-decoration-color: #008000\">'Please send these details to my email address ai_guy@somedomain.com'</span>,\n",
       "    <span style=\"color: #808000; text-decoration-color: #808000\">validation_summaries</span>=<span style=\"font-weight: bold\">[</span>\n",
       "        <span style=\"color: #800080; text-decoration-color: #800080; font-weight: bold\">ValidationSummary</span><span style=\"font-weight: bold\">(</span>\n",
       "            <span style=\"color: #808000; text-decoration-color: #808000\">validator_name</span>=<span style=\"color: #008000; text-decoration-color: #008000\">'DetectPII'</span>,\n",
       "            <span style=\"color: #808000; text-decoration-color: #808000\">validator_status</span>=<span style=\"color: #008000; text-decoration-color: #008000\">'fail'</span>,\n",
       "            <span style=\"color: #808000; text-decoration-color: #808000\">property_path</span>=<span style=\"color: #008000; text-decoration-color: #008000\">'$'</span>,\n",
       "            <span style=\"color: #808000; text-decoration-color: #808000\">failure_reason</span>=<span style=\"color: #008000; text-decoration-color: #008000\">'The following text in your response contains PII:\\nPlease send these details to my </span>\n",
       "<span style=\"color: #008000; text-decoration-color: #008000\">email address ai_guy@somedomain.com'</span>,\n",
       "            <span style=\"color: #808000; text-decoration-color: #808000\">error_spans</span>=<span style=\"font-weight: bold\">[</span><span style=\"color: #800080; text-decoration-color: #800080; font-weight: bold\">ErrorSpan</span><span style=\"font-weight: bold\">(</span><span style=\"color: #808000; text-decoration-color: #808000\">start</span>=<span style=\"color: #008080; text-decoration-color: #008080; font-weight: bold\">46</span>, <span style=\"color: #808000; text-decoration-color: #808000\">end</span>=<span style=\"color: #008080; text-decoration-color: #008080; font-weight: bold\">48</span>, <span style=\"color: #808000; text-decoration-color: #808000\">reason</span>=<span style=\"color: #008000; text-decoration-color: #008000\">'PII detected in ai'</span><span style=\"font-weight: bold\">)]</span>\n",
       "        <span style=\"font-weight: bold\">)</span>\n",
       "    <span style=\"font-weight: bold\">]</span>,\n",
       "    <span style=\"color: #808000; text-decoration-color: #808000\">validated_output</span>=<span style=\"color: #008000; text-decoration-color: #008000\">'Please send these details to my email address ai_guy@[redacted-email]'</span>,\n",
       "    <span style=\"color: #808000; text-decoration-color: #808000\">reask</span>=<span style=\"color: #800080; text-decoration-color: #800080; font-style: italic\">None</span>,\n",
       "    <span style=\"color: #808000; text-decoration-color: #808000\">validation_passed</span>=<span style=\"color: #00ff00; text-decoration-color: #00ff00; font-style: italic\">True</span>,\n",
       "    <span style=\"color: #808000; text-decoration-color: #808000\">error</span>=<span style=\"color: #800080; text-decoration-color: #800080; font-style: italic\">None</span>\n",
       "<span style=\"font-weight: bold\">)</span>\n",
       "</pre>\n"
      ],
      "text/plain": [
       "Detected violation:\n",
       "\u001b[1;35mFailResult\u001b[0m\u001b[1m(\u001b[0m\n",
       "    \u001b[33moutcome\u001b[0m=\u001b[32m'fail'\u001b[0m,\n",
       "    \u001b[33merror_message\u001b[0m=\u001b[32m'The following text in your response contains PII:\\nPlease send these details to my email address\u001b[0m\n",
       "\u001b[32mai_guy@somedomain.com'\u001b[0m,\n",
       "    \u001b[33mfix_value\u001b[0m=\u001b[32m'Please send these details to my email address \u001b[0m\u001b[32m<\u001b[0m\u001b[32mEMAIL_ADDRESS\u001b[0m\u001b[32m>\u001b[0m\u001b[32m'\u001b[0m,\n",
       "    \u001b[33merror_spans\u001b[0m=\u001b[1m[\u001b[0m\u001b[1;35mErrorSpan\u001b[0m\u001b[1m(\u001b[0m\u001b[33mstart\u001b[0m=\u001b[1;36m46\u001b[0m, \u001b[33mend\u001b[0m=\u001b[1;36m48\u001b[0m, \u001b[33mreason\u001b[0m=\u001b[32m'PII detected in ai'\u001b[0m\u001b[1m)\u001b[0m\u001b[1m]\u001b[0m,\n",
       "    \u001b[33mmetadata\u001b[0m=\u001b[3;35mNone\u001b[0m,\n",
       "    \u001b[33mvalidated_chunk\u001b[0m=\u001b[3;35mNone\u001b[0m\n",
       "\u001b[1m)\u001b[0m\n",
       "Detected violation:\n",
       "\u001b[1;35mFailResult\u001b[0m\u001b[1m(\u001b[0m\n",
       "    \u001b[33moutcome\u001b[0m=\u001b[32m'fail'\u001b[0m,\n",
       "    \u001b[33merror_message\u001b[0m=\u001b[32m'The following text in your response contains PII:\\nPlease send these details to my email address\u001b[0m\n",
       "\u001b[32mai_guy@somedomain.com'\u001b[0m,\n",
       "    \u001b[33mfix_value\u001b[0m=\u001b[32m'Please send these details to my email address \u001b[0m\u001b[32m<\u001b[0m\u001b[32mEMAIL_ADDRESS\u001b[0m\u001b[32m>\u001b[0m\u001b[32m'\u001b[0m,\n",
       "    \u001b[33merror_spans\u001b[0m=\u001b[1m[\u001b[0m\u001b[1;35mErrorSpan\u001b[0m\u001b[1m(\u001b[0m\u001b[33mstart\u001b[0m=\u001b[1;36m46\u001b[0m, \u001b[33mend\u001b[0m=\u001b[1;36m48\u001b[0m, \u001b[33mreason\u001b[0m=\u001b[32m'PII detected in ai'\u001b[0m\u001b[1m)\u001b[0m\u001b[1m]\u001b[0m,\n",
       "    \u001b[33mmetadata\u001b[0m=\u001b[3;35mNone\u001b[0m,\n",
       "    \u001b[33mvalidated_chunk\u001b[0m=\u001b[3;35mNone\u001b[0m\n",
       "\u001b[1m)\u001b[0m\n",
       "\u001b[1;35mValidationOutcome\u001b[0m\u001b[1m(\u001b[0m\n",
       "    \u001b[33mcall_id\u001b[0m=\u001b[32m'13839414000'\u001b[0m,\n",
       "    \u001b[33mraw_llm_output\u001b[0m=\u001b[32m'Please send these details to my email address ai_guy@somedomain.com'\u001b[0m,\n",
       "    \u001b[33mvalidation_summaries\u001b[0m=\u001b[1m[\u001b[0m\n",
       "        \u001b[1;35mValidationSummary\u001b[0m\u001b[1m(\u001b[0m\n",
       "            \u001b[33mvalidator_name\u001b[0m=\u001b[32m'DetectPII'\u001b[0m,\n",
       "            \u001b[33mvalidator_status\u001b[0m=\u001b[32m'fail'\u001b[0m,\n",
       "            \u001b[33mproperty_path\u001b[0m=\u001b[32m'$'\u001b[0m,\n",
       "            \u001b[33mfailure_reason\u001b[0m=\u001b[32m'The following text in your response contains PII:\\nPlease send these details to my \u001b[0m\n",
       "\u001b[32memail address ai_guy@somedomain.com'\u001b[0m,\n",
       "            \u001b[33merror_spans\u001b[0m=\u001b[1m[\u001b[0m\u001b[1;35mErrorSpan\u001b[0m\u001b[1m(\u001b[0m\u001b[33mstart\u001b[0m=\u001b[1;36m46\u001b[0m, \u001b[33mend\u001b[0m=\u001b[1;36m48\u001b[0m, \u001b[33mreason\u001b[0m=\u001b[32m'PII detected in ai'\u001b[0m\u001b[1m)\u001b[0m\u001b[1m]\u001b[0m\n",
       "        \u001b[1m)\u001b[0m\n",
       "    \u001b[1m]\u001b[0m,\n",
       "    \u001b[33mvalidated_output\u001b[0m=\u001b[32m'Please send these details to my email address ai_guy@\u001b[0m\u001b[32m[\u001b[0m\u001b[32mredacted-email\u001b[0m\u001b[32m]\u001b[0m\u001b[32m'\u001b[0m,\n",
       "    \u001b[33mreask\u001b[0m=\u001b[3;35mNone\u001b[0m,\n",
       "    \u001b[33mvalidation_passed\u001b[0m=\u001b[3;92mTrue\u001b[0m,\n",
       "    \u001b[33merror\u001b[0m=\u001b[3;35mNone\u001b[0m\n",
       "\u001b[1m)\u001b[0m\n"
      ]
     },
     "metadata": {},
     "output_type": "display_data"
    },
    {
     "data": {
      "text/html": [
       "<pre style=\"white-space:pre;overflow-x:auto;line-height:normal;font-family:Menlo,'DejaVu Sans Mono',consolas,'Courier New',monospace\">Prompt doesn't contain any PII\n",
       "</pre>\n"
      ],
      "text/plain": [
       "Prompt doesn't contain any PII\n"
      ]
     },
     "metadata": {},
     "output_type": "display_data"
    },
    {
     "data": {
      "text/html": [
       "<pre style=\"white-space:pre;overflow-x:auto;line-height:normal;font-family:Menlo,'DejaVu Sans Mono',consolas,'Courier New',monospace\">Please send these details to my email address ai_guy@\n",
       "</pre>\n"
      ],
      "text/plain": [
       "Please send these details to my email address ai_guy@\n"
      ]
     },
     "metadata": {},
     "output_type": "display_data"
    }
   ],
   "source": [
    "## Customer handler \n",
    "\n",
    "def custom_handler(output, error):\n",
    "    return output.replace(\"somedomain.com\", \"[redacted-email]\")\n",
    "\n",
    "guard = Guard().use(\n",
    "    DetectPII(on_fail=custom_handler)\n",
    ")\n",
    "\n",
    "response = guard.validate(\"Please send these details to my email address ai_guy@somedomain.com\")\n",
    "\n",
    "print(response)\n",
    "validate_result(response)\n"
   ]
  },
  {
   "cell_type": "code",
   "execution_count": null,
   "id": "2f4c47f2",
   "metadata": {},
   "outputs": [],
   "source": []
  }
 ],
 "metadata": {
  "kernelspec": {
   "display_name": "Gaurdrails_Practice",
   "language": "python",
   "name": "python3"
  },
  "language_info": {
   "codemirror_mode": {
    "name": "ipython",
    "version": 3
   },
   "file_extension": ".py",
   "mimetype": "text/x-python",
   "name": "python",
   "nbconvert_exporter": "python",
   "pygments_lexer": "ipython3",
   "version": "3.11.8"
  }
 },
 "nbformat": 4,
 "nbformat_minor": 5
}
