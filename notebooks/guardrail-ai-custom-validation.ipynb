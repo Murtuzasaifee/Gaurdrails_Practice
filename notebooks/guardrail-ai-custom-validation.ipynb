{
 "cells": [
  {
   "cell_type": "markdown",
   "id": "a032abc1",
   "metadata": {},
   "source": [
    "Guardrails AI Custom Validation Example"
   ]
  },
  {
   "cell_type": "code",
   "execution_count": 14,
   "id": "2e5a6257",
   "metadata": {},
   "outputs": [],
   "source": [
    "from guardrails import Guard\n",
    "from guardrails.hub import ProfanityFree\n",
    "from guardrails.validator_base import FailResult"
   ]
  },
  {
   "cell_type": "code",
   "execution_count": 15,
   "id": "aff4de97",
   "metadata": {},
   "outputs": [],
   "source": [
    "## custom on_fail handler\n",
    "\n",
    "def handle_profanity(output: str, fail_result: FailResult) -> str:\n",
    "    \"\"\"\n",
    "    Custom handler when profanity is detected.\n",
    "    You can log, raise, or auto-fix the output here.\n",
    "    \"\"\"\n",
    "    print(\"Profanity detected:\", fail_result.error_message)\n",
    "    # Option A → simple replacement fix (local clean)\n",
    "    cleaned = output.replace(\"pathetic\", \"kind\").replace(\"useless\", \"generous\")\n",
    "    # Option B → raise error (comment out if you want to stop execution)\n",
    "    # raise ValueError(f\"Profanity found: {fail_result.error_message}\")\n",
    "    return cleaned"
   ]
  },
  {
   "cell_type": "code",
   "execution_count": 16,
   "id": "b831b0ef",
   "metadata": {},
   "outputs": [],
   "source": [
    "## Guard with validator and custom on_fail handler\n",
    "guard = Guard().use(\n",
    "    ProfanityFree(on_fail=handle_profanity)\n",
    ")"
   ]
  },
  {
   "cell_type": "code",
   "execution_count": 17,
   "id": "b3451fc9",
   "metadata": {},
   "outputs": [
    {
     "name": "stdout",
     "output_type": "stream",
     "text": [
      "Profanity detected: You are a pathetic and useless person contains profanity. Please return profanity-free output.\n",
      "ValidationOutcome(\n",
      "    call_id='5690462192',\n",
      "    raw_llm_output='You are a pathetic and useless person',\n",
      "    validation_summaries=[\n",
      "        ValidationSummary(\n",
      "            validator_name='ProfanityFree',\n",
      "            validator_status='fail',\n",
      "            property_path='$',\n",
      "            failure_reason='You are a pathetic and useless person contains profanity. Please return profanity-free output.',\n",
      "            error_spans=[\n",
      "                ErrorSpan(\n",
      "                    start=0,\n",
      "                    end=37,\n",
      "                    reason='This text contains profanity.'\n",
      "                )\n",
      "            ]\n",
      "        )\n",
      "    ],\n",
      "    validated_output='You are a kind and generous person',\n",
      "    reask=None,\n",
      "    validation_passed=True,\n",
      "    error=None\n",
      ")\n",
      "Original Output: You are a pathetic and useless person\n",
      "Final Clean Output: You are a kind and generous person\n"
     ]
    },
    {
     "name": "stderr",
     "output_type": "stream",
     "text": [
      "/Users/murtuzasaifee/Documents/Personal/Codes/AIWorkspace/Gaurdrails_Practice/.venv/lib/python3.11/site-packages/guardrails/validator_service/__init__.py:84: UserWarning: Could not obtain an event loop. Falling back to synchronous validation.\n",
      "  warnings.warn(\n"
     ]
    }
   ],
   "source": [
    "llm_output = \"You are a pathetic and useless person\"\n",
    "\n",
    "response = guard.validate(llm_output)\n",
    "\n",
    "print(response)\n",
    "print(\"Original Output:\", response.raw_llm_output)\n",
    "print(\"Final Clean Output:\", response.validated_output)\n"
   ]
  },
  {
   "cell_type": "code",
   "execution_count": null,
   "id": "aab8f3a7",
   "metadata": {},
   "outputs": [],
   "source": []
  }
 ],
 "metadata": {
  "kernelspec": {
   "display_name": "Gaurdrails_Practice",
   "language": "python",
   "name": "python3"
  },
  "language_info": {
   "codemirror_mode": {
    "name": "ipython",
    "version": 3
   },
   "file_extension": ".py",
   "mimetype": "text/x-python",
   "name": "python",
   "nbconvert_exporter": "python",
   "pygments_lexer": "ipython3",
   "version": "3.11.8"
  }
 },
 "nbformat": 4,
 "nbformat_minor": 5
}
