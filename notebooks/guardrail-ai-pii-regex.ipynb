{
 "cells": [
  {
   "cell_type": "markdown",
   "id": "809fc961",
   "metadata": {},
   "source": [
    "Detect PII Validator"
   ]
  },
  {
   "cell_type": "code",
   "execution_count": 1,
   "id": "30efc4da",
   "metadata": {},
   "outputs": [
    {
     "name": "stdout",
     "output_type": "stream",
     "text": [
      "Installing hub:\u001b[35m/\u001b[0m\u001b[35m/guardrails/\u001b[0m\u001b[95mregex_match...\u001b[0m\n",
      "\u001b[2K\u001b[32m[=== ]\u001b[0m Fetching manifestst\n",
      "\u001b[2K\u001b[32m[=== ]\u001b[0m Downloading dependenciespendencies\n",
      "\u001b[1A\u001b[2K\u001b[?25l\u001b[32m[    ]\u001b[0m Running post-install setup\n",
      "\u001b[1A\u001b[2K✅Successfully installed guardrails/regex_match version \u001b[1;36m0.0\u001b[0m.\u001b[1;36m0\u001b[0m!\n",
      "\n",
      "\n",
      "\u001b[1mImport validator:\u001b[0m\n",
      "from guardrails.hub import RegexMatch\n",
      "\n",
      "\u001b[1mGet more info:\u001b[0m\n",
      "\u001b[4;94mhttps://hub.guardrailsai.com/validator/guardrails/regex_match\u001b[0m\n",
      "\n"
     ]
    }
   ],
   "source": [
    "## Install Regex Validator\n",
    "\n",
    "!guardrails hub install hub://guardrails/regex_match"
   ]
  },
  {
   "cell_type": "code",
   "execution_count": 5,
   "id": "4812515f",
   "metadata": {},
   "outputs": [
    {
     "name": "stderr",
     "output_type": "stream",
     "text": [
      "/Users/murtuzasaifee/Documents/Personal/Codes/AIWorkspace/Gaurdrails_Practice/.venv/lib/python3.11/site-packages/tqdm/auto.py:21: TqdmWarning: IProgress not found. Please update jupyter and ipywidgets. See https://ipywidgets.readthedocs.io/en/stable/user_install.html\n",
      "  from .autonotebook import tqdm as notebook_tqdm\n"
     ]
    }
   ],
   "source": [
    "from guardrails import Guard\n",
    "from guardrails.hub import RegexMatch\n",
    "from guardrails.validator_base import FailResult\n",
    "from rich import print\n"
   ]
  },
  {
   "cell_type": "code",
   "execution_count": 6,
   "id": "34a4831f",
   "metadata": {},
   "outputs": [],
   "source": [
    "def validate_result(response):\n",
    "    if response.validation_passed:\n",
    "        print(\"Validation Passed\")\n",
    "    else:\n",
    "        print(\"Validation Failed\")\n",
    "        \n",
    "    print(response.validated_output)"
   ]
  },
  {
   "cell_type": "code",
   "execution_count": 11,
   "id": "0971f238",
   "metadata": {},
   "outputs": [
    {
     "data": {
      "text/html": [
       "<pre style=\"white-space:pre;overflow-x:auto;line-height:normal;font-family:Menlo,'DejaVu Sans Mono',consolas,'Courier New',monospace\">Validation Passed\n",
       "</pre>\n"
      ],
      "text/plain": [
       "Validation Passed\n"
      ]
     },
     "metadata": {},
     "output_type": "display_data"
    },
    {
     "data": {
      "text/html": [
       "<pre style=\"white-space:pre;overflow-x:auto;line-height:normal;font-family:Menlo,'DejaVu Sans Mono',consolas,'Courier New',monospace\">This is a output from the LLM which needs to be end with properly.\n",
       "</pre>\n"
      ],
      "text/plain": [
       "This is a output from the LLM which needs to be end with properly.\n"
      ]
     },
     "metadata": {},
     "output_type": "display_data"
    },
    {
     "data": {
      "text/html": [
       "<pre style=\"white-space:pre;overflow-x:auto;line-height:normal;font-family:Menlo,'DejaVu Sans Mono',consolas,'Courier New',monospace\"><span style=\"color: #800080; text-decoration-color: #800080; font-weight: bold\">ValidationOutcome</span><span style=\"font-weight: bold\">(</span>\n",
       "    <span style=\"color: #808000; text-decoration-color: #808000\">call_id</span>=<span style=\"color: #008000; text-decoration-color: #008000\">'13632908384'</span>,\n",
       "    <span style=\"color: #808000; text-decoration-color: #808000\">raw_llm_output</span>=<span style=\"color: #008000; text-decoration-color: #008000\">'this is a output from the LLM which needs to be end with properly'</span>,\n",
       "    <span style=\"color: #808000; text-decoration-color: #808000\">validation_summaries</span>=<span style=\"font-weight: bold\">[</span>\n",
       "        <span style=\"color: #800080; text-decoration-color: #800080; font-weight: bold\">ValidationSummary</span><span style=\"font-weight: bold\">(</span>\n",
       "            <span style=\"color: #808000; text-decoration-color: #808000\">validator_name</span>=<span style=\"color: #008000; text-decoration-color: #008000\">'RegexMatch'</span>,\n",
       "            <span style=\"color: #808000; text-decoration-color: #808000\">validator_status</span>=<span style=\"color: #008000; text-decoration-color: #008000\">'fail'</span>,\n",
       "            <span style=\"color: #808000; text-decoration-color: #808000\">property_path</span>=<span style=\"color: #008000; text-decoration-color: #008000\">'$'</span>,\n",
       "            <span style=\"color: #808000; text-decoration-color: #808000\">failure_reason</span>=<span style=\"color: #008000; text-decoration-color: #008000\">'Result must match ^[A-Z].*\\\\.$'</span>,\n",
       "            <span style=\"color: #808000; text-decoration-color: #808000\">error_spans</span>=<span style=\"color: #800080; text-decoration-color: #800080; font-style: italic\">None</span>\n",
       "        <span style=\"font-weight: bold\">)</span>\n",
       "    <span style=\"font-weight: bold\">]</span>,\n",
       "    <span style=\"color: #808000; text-decoration-color: #808000\">validated_output</span>=<span style=\"color: #008000; text-decoration-color: #008000\">'This is a output from the LLM which needs to be end with properly.'</span>,\n",
       "    <span style=\"color: #808000; text-decoration-color: #808000\">reask</span>=<span style=\"color: #800080; text-decoration-color: #800080; font-style: italic\">None</span>,\n",
       "    <span style=\"color: #808000; text-decoration-color: #808000\">validation_passed</span>=<span style=\"color: #00ff00; text-decoration-color: #00ff00; font-style: italic\">True</span>,\n",
       "    <span style=\"color: #808000; text-decoration-color: #808000\">error</span>=<span style=\"color: #800080; text-decoration-color: #800080; font-style: italic\">None</span>\n",
       "<span style=\"font-weight: bold\">)</span>\n",
       "</pre>\n"
      ],
      "text/plain": [
       "\u001b[1;35mValidationOutcome\u001b[0m\u001b[1m(\u001b[0m\n",
       "    \u001b[33mcall_id\u001b[0m=\u001b[32m'13632908384'\u001b[0m,\n",
       "    \u001b[33mraw_llm_output\u001b[0m=\u001b[32m'this is a output from the LLM which needs to be end with properly'\u001b[0m,\n",
       "    \u001b[33mvalidation_summaries\u001b[0m=\u001b[1m[\u001b[0m\n",
       "        \u001b[1;35mValidationSummary\u001b[0m\u001b[1m(\u001b[0m\n",
       "            \u001b[33mvalidator_name\u001b[0m=\u001b[32m'RegexMatch'\u001b[0m,\n",
       "            \u001b[33mvalidator_status\u001b[0m=\u001b[32m'fail'\u001b[0m,\n",
       "            \u001b[33mproperty_path\u001b[0m=\u001b[32m'$'\u001b[0m,\n",
       "            \u001b[33mfailure_reason\u001b[0m=\u001b[32m'Result must match ^\u001b[0m\u001b[32m[\u001b[0m\u001b[32mA-Z\u001b[0m\u001b[32m]\u001b[0m\u001b[32m.*\\\\.$'\u001b[0m,\n",
       "            \u001b[33merror_spans\u001b[0m=\u001b[3;35mNone\u001b[0m\n",
       "        \u001b[1m)\u001b[0m\n",
       "    \u001b[1m]\u001b[0m,\n",
       "    \u001b[33mvalidated_output\u001b[0m=\u001b[32m'This is a output from the LLM which needs to be end with properly.'\u001b[0m,\n",
       "    \u001b[33mreask\u001b[0m=\u001b[3;35mNone\u001b[0m,\n",
       "    \u001b[33mvalidation_passed\u001b[0m=\u001b[3;92mTrue\u001b[0m,\n",
       "    \u001b[33merror\u001b[0m=\u001b[3;35mNone\u001b[0m\n",
       "\u001b[1m)\u001b[0m\n"
      ]
     },
     "metadata": {},
     "output_type": "display_data"
    }
   ],
   "source": [
    "## Custom Handler\n",
    "def custom_handler(output, fail_result: FailResult):\n",
    "    # Simple correction: capitalize first letter and ensure ending period\n",
    "    text = output.strip()\n",
    "    if not text.endswith('.'):\n",
    "        text += '.'\n",
    "    return text[0].upper() + text[1:]\n",
    "\n",
    "\n",
    "\n",
    "guard = Guard().use(\n",
    "    RegexMatch(regex=r\"^[A-Z].*\\.$\", on_fail=custom_handler)\n",
    ")\n",
    "\n",
    "response = guard.validate(\"this is a output from the LLM which needs to be end with properly\")\n",
    "     \n",
    "validate_result(response)\n",
    "print(response)\n"
   ]
  },
  {
   "cell_type": "code",
   "execution_count": null,
   "id": "2f4c47f2",
   "metadata": {},
   "outputs": [],
   "source": []
  }
 ],
 "metadata": {
  "kernelspec": {
   "display_name": "Gaurdrails_Practice",
   "language": "python",
   "name": "python3"
  },
  "language_info": {
   "codemirror_mode": {
    "name": "ipython",
    "version": 3
   },
   "file_extension": ".py",
   "mimetype": "text/x-python",
   "name": "python",
   "nbconvert_exporter": "python",
   "pygments_lexer": "ipython3",
   "version": "3.11.8"
  }
 },
 "nbformat": 4,
 "nbformat_minor": 5
}
