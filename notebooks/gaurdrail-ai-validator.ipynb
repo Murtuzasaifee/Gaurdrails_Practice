{
 "cells": [
  {
   "cell_type": "markdown",
   "id": "00cf7c56",
   "metadata": {},
   "source": [
    "### Gaurdrail AI validation using the built-in Validator\n",
    "\n",
    "- In Guardrails-AI, a validator is a plug-in that inspects the text coming into or going out of the LLM and decides whether it violates a rule (schema, PII, toxicity, topic drift, etc.)\n",
    "\n",
    "- Each “validator” (like toxic_language, pii, bias, faithfulness, etc.) is a plugin — not a standalone PyPI package.\n",
    "\n",
    "- Each \"validator\" needs to installed from the gaurdrails hub not from the PyPI package manager."
   ]
  },
  {
   "cell_type": "code",
   "execution_count": null,
   "id": "11f179f8",
   "metadata": {},
   "outputs": [],
   "source": []
  }
 ],
 "metadata": {
  "kernelspec": {
   "display_name": "Gaurdrails_Practice",
   "language": "python",
   "name": "python3"
  },
  "language_info": {
   "name": "python",
   "version": "3.11.8"
  }
 },
 "nbformat": 4,
 "nbformat_minor": 5
}
