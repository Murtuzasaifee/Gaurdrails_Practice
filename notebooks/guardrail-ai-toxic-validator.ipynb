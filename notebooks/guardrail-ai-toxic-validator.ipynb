{
 "cells": [
  {
   "cell_type": "markdown",
   "id": "809fc961",
   "metadata": {},
   "source": [
    "For Toxic / Hateful output messages validation"
   ]
  },
  {
   "cell_type": "code",
   "execution_count": 1,
   "id": "30efc4da",
   "metadata": {},
   "outputs": [
    {
     "name": "stdout",
     "output_type": "stream",
     "text": [
      "Installing hub:\u001b[35m/\u001b[0m\u001b[35m/guardrails/\u001b[0m\u001b[95mtoxic_language...\u001b[0m\n",
      "\u001b[2K\u001b[32m[=   ]\u001b[0m Fetching manifestst\n",
      "\u001b[2K\u001b[32m[ ===]\u001b[0m Downloading dependenciespendencies\n",
      "100%|██████████████████████████████████████| 44.6M/44.6M [00:05<00:00, 9.16MB/s]\n",
      "config.json: 100%|█████████████████████████████| 684/684 [00:00<00:00, 4.19MB/s]\n",
      "tokenizer_config.json: 100%|██████████████████| 25.0/25.0 [00:00<00:00, 155kB/s]\n",
      "spiece.model: 100%|██████████████████████████| 760k/760k [00:00<00:00, 3.02MB/s]\n",
      "tokenizer.json: 100%|██████████████████████| 1.31M/1.31M [00:00<00:00, 6.48MB/s]\n",
      "\u001b[2K\u001b[32m[=   ]\u001b[0m Running post-install setup\n",
      "\u001b[1A\u001b[2K✅Successfully installed guardrails/toxic_language version \u001b[1;36m0.0\u001b[0m.\u001b[1;36m2\u001b[0m!\n",
      "\n",
      "\n",
      "\u001b[1mImport validator:\u001b[0m\n",
      "from guardrails.hub import ToxicLanguage\n",
      "\n",
      "\u001b[1mGet more info:\u001b[0m\n",
      "\u001b[4;94mhttps://hub.guardrailsai.com/validator/guardrails/toxic_language\u001b[0m\n",
      "\n"
     ]
    }
   ],
   "source": [
    "## Install Toxic Validator\n",
    "\n",
    "!guardrails hub install hub://guardrails/toxic_language\n"
   ]
  },
  {
   "cell_type": "code",
   "execution_count": 11,
   "id": "4812515f",
   "metadata": {},
   "outputs": [],
   "source": [
    "from guardrails.hub import ToxicLanguage\n",
    "from guardrails import Guard"
   ]
  },
  {
   "cell_type": "code",
   "execution_count": 3,
   "id": "1d88abd4",
   "metadata": {},
   "outputs": [],
   "source": [
    "guard = Guard().use(ToxicLanguage, \n",
    "                    threshold=0.5, \n",
    "                    validation_method=\"sentence\", \n",
    "                    on_fail=\"exception\")"
   ]
  },
  {
   "cell_type": "code",
   "execution_count": 5,
   "id": "aa7cc26c",
   "metadata": {},
   "outputs": [
    {
     "name": "stderr",
     "output_type": "stream",
     "text": [
      "/Users/murtuzasaifee/Documents/Personal/Codes/AIWorkspace/Gaurdrails_Practice/.venv/lib/python3.11/site-packages/guardrails/validator_service/__init__.py:84: UserWarning: Could not obtain an event loop. Falling back to synchronous validation.\n",
      "  warnings.warn(\n"
     ]
    },
    {
     "name": "stdout",
     "output_type": "stream",
     "text": [
      "You are an inspiring teammate. We strive each day to achieve our goals together.\n",
      "True\n"
     ]
    }
   ],
   "source": [
    "response = guard.validate(\"You are an inspiring teammate. We strive each day to achieve our goals together.\")\n",
    "\n",
    "print(response.validated_output)\n",
    "print(response.validation_passed)"
   ]
  },
  {
   "cell_type": "code",
   "execution_count": 10,
   "id": "34a4831f",
   "metadata": {},
   "outputs": [
    {
     "name": "stdout",
     "output_type": "stream",
     "text": [
      "Validation failed for field with errors: The following sentences in your response were found to be toxic:\n",
      "\n",
      "- You are a patheric and useless, who can't do             anything right.\n"
     ]
    }
   ],
   "source": [
    "try:\n",
    "    response = guard.validate(\n",
    "            \"Please look carefully. You are a patheric and useless, who can't do \\\n",
    "            anything right. You are a good person\"\n",
    "    )\n",
    "\n",
    "    print(response.validated_output)\n",
    "    print(response.validation_passed)\n",
    "except Exception as e:\n",
    "    print(e)"
   ]
  },
  {
   "cell_type": "code",
   "execution_count": null,
   "id": "aaeb39a1",
   "metadata": {},
   "outputs": [],
   "source": []
  }
 ],
 "metadata": {
  "kernelspec": {
   "display_name": "Gaurdrails_Practice",
   "language": "python",
   "name": "python3"
  },
  "language_info": {
   "codemirror_mode": {
    "name": "ipython",
    "version": 3
   },
   "file_extension": ".py",
   "mimetype": "text/x-python",
   "name": "python",
   "nbconvert_exporter": "python",
   "pygments_lexer": "ipython3",
   "version": "3.11.8"
  }
 },
 "nbformat": 4,
 "nbformat_minor": 5
}
