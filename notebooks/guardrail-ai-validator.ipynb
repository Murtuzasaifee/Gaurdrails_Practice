{
 "cells": [
  {
   "cell_type": "markdown",
   "id": "00cf7c56",
   "metadata": {},
   "source": [
    "### Gaurdrail AI validation using the built-in Validator\n",
    "\n",
    "- In Guardrails-AI, a validator is a plug-in that inspects the text coming into or going out of the LLM and decides whether it violates a rule (schema, PII, toxicity, topic drift, etc.)\n",
    "\n",
    "- Each “validator” (like toxic_language, pii, bias, faithfulness, etc.) is a plugin — not a standalone PyPI package.\n",
    "\n",
    "- Each \"validator\" needs to installed from the gaurdrails hub not from the PyPI package manager."
   ]
  },
  {
   "cell_type": "code",
   "execution_count": 4,
   "id": "11f179f8",
   "metadata": {},
   "outputs": [
    {
     "name": "stdout",
     "output_type": "stream",
     "text": [
      "Installing hub:\u001b[35m/\u001b[0m\u001b[35m/guardrails/\u001b[0m\u001b[95mprofanity_free...\u001b[0m\n",
      "\u001b[2K\u001b[32m[=   ]\u001b[0m Fetching manifestst\n",
      "\u001b[2K\u001b[32m[   =]\u001b[0m Downloading dependenciespendencies\n",
      "\u001b[2K\u001b[32m[=   ]\u001b[0m Running post-install setuptall setup\n",
      "\u001b[1A\u001b[2K✅Successfully installed guardrails/profanity_free version \u001b[1;36m0.0\u001b[0m.\u001b[1;36m0\u001b[0m!\n",
      "\n",
      "\n",
      "\u001b[1mImport validator:\u001b[0m\n",
      "from guardrails.hub import ProfanityFree\n",
      "\n",
      "\u001b[1mGet more info:\u001b[0m\n",
      "\u001b[4;94mhttps://hub.guardrailsai.com/validator/guardrails/profanity_free\u001b[0m\n",
      "\n"
     ]
    }
   ],
   "source": [
    "## Install Gaurdrail AI Validator (Profanity)\n",
    "!guardrails hub install hub://guardrails/profanity_free"
   ]
  },
  {
   "cell_type": "code",
   "execution_count": 5,
   "id": "48c1a1ad",
   "metadata": {},
   "outputs": [
    {
     "name": "stdout",
     "output_type": "stream",
     "text": [
      "Installed Validators:\n",
      "- ProfanityFree\n"
     ]
    }
   ],
   "source": [
    "!guardrails hub list"
   ]
  },
  {
   "cell_type": "code",
   "execution_count": 6,
   "id": "64f1bf97",
   "metadata": {},
   "outputs": [],
   "source": [
    "from guardrails import Guard\n",
    "from guardrails.hub import ProfanityFree     "
   ]
  },
  {
   "cell_type": "code",
   "execution_count": 10,
   "id": "b15e95f8",
   "metadata": {},
   "outputs": [
    {
     "name": "stdout",
     "output_type": "stream",
     "text": [
      "Validation failed for field with errors: You are a pathetic person! contains profanity. Please return profanity-free output.\n"
     ]
    },
    {
     "name": "stderr",
     "output_type": "stream",
     "text": [
      "/Users/murtuzasaifee/Documents/Personal/Codes/AIWorkspace/Gaurdrails_Practice/.venv/lib/python3.11/site-packages/guardrails/validator_service/__init__.py:84: UserWarning: Could not obtain an event loop. Falling back to synchronous validation.\n",
      "  warnings.warn(\n"
     ]
    }
   ],
   "source": [
    "\n",
    "try:\n",
    "  # Create a guard with profanity filter\n",
    "  guard = Guard().use(ProfanityFree(on_fail=\"exception\"))\n",
    "\n",
    "  # Simulate an LLM returns a message\n",
    "#   output = \"You are a beautiful person!\"\n",
    "  output = \"You are a pathetic person!\"\n",
    "\n",
    "  res = guard.validate(output)  # This will raise or fail because profanity found\n",
    "\n",
    "  # Get the output\n",
    "  print(res)\n",
    "\n",
    "  # Check if validation passed\n",
    "  print(res.validation_passed)\n",
    "\n",
    "except Exception as e:\n",
    "  print(e)"
   ]
  },
  {
   "cell_type": "code",
   "execution_count": 13,
   "id": "dc6aac25",
   "metadata": {},
   "outputs": [],
   "source": [
    "from guardrails import Guard\n",
    "from guardrails.hub import ProfanityFree\n",
    "from openai import OpenAI\n",
    "import os\n",
    "from dotenv import load_dotenv\n",
    "load_dotenv()\n",
    "\n",
    "from openai import OpenAI\n",
    "\n",
    "client = OpenAI(api_key=os.getenv(\"OPENAI_API_KEY\"))"
   ]
  },
  {
   "cell_type": "code",
   "execution_count": 14,
   "id": "4623e2bb",
   "metadata": {},
   "outputs": [],
   "source": [
    "# Wrap LLM call to match Guardrails expectations\n",
    "def llm_wrapper(messages=None, model=None, **kwargs):\n",
    "    # `messages` is a list of dicts: [{\"role\": \"...\", \"content\": \"...\"}]\n",
    "    return client.chat.completions.create(model=model, messages=messages, **kwargs).choices[0].message.content\n",
    "     "
   ]
  },
  {
   "cell_type": "code",
   "execution_count": 20,
   "id": "c9b21aab",
   "metadata": {},
   "outputs": [
    {
     "name": "stderr",
     "output_type": "stream",
     "text": [
      "/Users/murtuzasaifee/Documents/Personal/Codes/AIWorkspace/Gaurdrails_Practice/.venv/lib/python3.11/site-packages/guardrails/llm_providers.py:441: UserWarning: We recommend including 'messages' as keyword-only arguments for custom LLM callables. Doing so ensures these arguments are not unintentionally passed through to other calls via **kwargs.\n",
      "  warnings.warn(\n"
     ]
    },
    {
     "name": "stdout",
     "output_type": "stream",
     "text": [
      "Validated output: I’m sorry, I can’t assist with that request.\n"
     ]
    },
    {
     "name": "stderr",
     "output_type": "stream",
     "text": [
      "/Users/murtuzasaifee/Documents/Personal/Codes/AIWorkspace/Gaurdrails_Practice/.venv/lib/python3.11/site-packages/guardrails/validator_service/__init__.py:84: UserWarning: Could not obtain an event loop. Falling back to synchronous validation.\n",
      "  warnings.warn(\n"
     ]
    }
   ],
   "source": [
    "# Create a Guard with the ProfanityFree validator\n",
    "# You can specify on_fail behavior, e.g. exception, fix, reject\n",
    "guard = Guard().use(ProfanityFree(on_fail=\"fix\"))\n",
    "\n",
    "# Use the guard to call your LLM\n",
    "response = guard(\n",
    "    llm_wrapper,\n",
    "    messages=[{\"role\": \"assistant\", \"content\": \"how to troll to my best friend with abusive language.\"}],\n",
    "    model=\"gpt-4o\"\n",
    ")\n",
    "\n",
    "print(\"Validated output:\", response.validated_output)\n"
   ]
  },
  {
   "cell_type": "code",
   "execution_count": 19,
   "id": "d9139ceb",
   "metadata": {},
   "outputs": [
    {
     "name": "stdout",
     "output_type": "stream",
     "text": [
      "I’m sorry, I can’t assist with that request.\n"
     ]
    }
   ],
   "source": [
    "#Now, the model (gpt-4o) is trained with OpenAI’s built-in safety filters, so it refuses to generate offensive text.\n",
    "\n",
    "response = client.chat.completions.create( model=\"gpt-4o\", messages=[ {\"role\": \"user\", \"content\": \"how to troll to my best friend with abusive language.\"} ] )\n",
    "print(response.choices[0].message.content)"
   ]
  },
  {
   "cell_type": "code",
   "execution_count": 21,
   "id": "3a3c3e39",
   "metadata": {},
   "outputs": [
    {
     "name": "stderr",
     "output_type": "stream",
     "text": [
      "/Users/murtuzasaifee/Documents/Personal/Codes/AIWorkspace/Gaurdrails_Practice/.venv/lib/python3.11/site-packages/guardrails/llm_providers.py:441: UserWarning: We recommend including 'messages' as keyword-only arguments for custom LLM callables. Doing so ensures these arguments are not unintentionally passed through to other calls via **kwargs.\n",
      "  warnings.warn(\n"
     ]
    },
    {
     "name": "stdout",
     "output_type": "stream",
     "text": [
      "Validated output: In a quaint village, lived Elara, whose beauty was not just in her appearance but in her heart. Her eyes sparkled with kindness, and her smile was a balm to weary souls. Every morning, she tended to the village garden, nurturing vibrant blooms that mirrored her spirit. Elara's laughter was a melody that lifted spirits, and her gentle words mended broken hearts. When a storm threatened the village, she organized a shelter, ensuring everyone was safe. Her selflessness inspired unity, and the village thrived. Elara's true beauty lay in her compassion, leaving an indelible mark on every life she touched.\n",
      "Validation passed: True\n"
     ]
    },
    {
     "name": "stderr",
     "output_type": "stream",
     "text": [
      "/Users/murtuzasaifee/Documents/Personal/Codes/AIWorkspace/Gaurdrails_Practice/.venv/lib/python3.11/site-packages/guardrails/validator_service/__init__.py:84: UserWarning: Could not obtain an event loop. Falling back to synchronous validation.\n",
      "  warnings.warn(\n"
     ]
    }
   ],
   "source": [
    "# Possitive scenario\n",
    "\n",
    "response = guard(\n",
    "    llm_wrapper,\n",
    "    messages=[{\"role\": \"user\", \"content\": \"Tell me a story about a beautiful person in 100 words\"}],\n",
    "    model=\"gpt-4o\"\n",
    ")\n",
    "\n",
    "print(\"Validated output:\", response.validated_output)\n",
    "print(\"Validation passed:\", response.validation_passed)"
   ]
  },
  {
   "cell_type": "code",
   "execution_count": null,
   "id": "fc675f63",
   "metadata": {},
   "outputs": [],
   "source": []
  }
 ],
 "metadata": {
  "kernelspec": {
   "display_name": "Gaurdrails_Practice",
   "language": "python",
   "name": "python3"
  },
  "language_info": {
   "codemirror_mode": {
    "name": "ipython",
    "version": 3
   },
   "file_extension": ".py",
   "mimetype": "text/x-python",
   "name": "python",
   "nbconvert_exporter": "python",
   "pygments_lexer": "ipython3",
   "version": "3.11.8"
  }
 },
 "nbformat": 4,
 "nbformat_minor": 5
}
