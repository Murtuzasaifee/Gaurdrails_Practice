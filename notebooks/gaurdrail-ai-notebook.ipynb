{
 "cells": [
  {
   "cell_type": "markdown",
   "id": "d30ec170",
   "metadata": {},
   "source": [
    "## Gaurdrails AI Notebook\n",
    "https://www.guardrailsai.com/docs"
   ]
  },
  {
   "cell_type": "code",
   "execution_count": 1,
   "id": "c9b0d17c",
   "metadata": {},
   "outputs": [
    {
     "name": "stdout",
     "output_type": "stream",
     "text": [
      "\u001b[38;5;2m✔ Download and installation successful\u001b[0m\n",
      "You can now load the package via spacy.load('en_core_web_lg')\n"
     ]
    }
   ],
   "source": [
    "## en_core_web_lg is spaCy’s large-size English model\n",
    "\n",
    "!python -m spacy download en_core_web_lg -q"
   ]
  },
  {
   "cell_type": "code",
   "execution_count": 2,
   "id": "b7134acf",
   "metadata": {},
   "outputs": [],
   "source": [
    "## Igroning warnings\n",
    "\n",
    "import warnings\n",
    "warnings.filterwarnings(\"ignore\", category=UserWarning, module=\"guardrails\")"
   ]
  },
  {
   "cell_type": "code",
   "execution_count": null,
   "id": "892053e4",
   "metadata": {},
   "outputs": [],
   "source": [
    "from guardrails import Guard\n",
    "from pydantic import BaseModel\n",
    "from typing import List"
   ]
  },
  {
   "cell_type": "markdown",
   "id": "aec769ea",
   "metadata": {},
   "source": [
    "#### Gaurd Validation Scenario\n",
    "Validate any LLM output against the MovieReview schema. This gaurd will check if the output is a valid movie review JSON object with all the required fields."
   ]
  },
  {
   "cell_type": "code",
   "execution_count": 4,
   "id": "fe9efbdf",
   "metadata": {},
   "outputs": [],
   "source": [
    "class MovieReview(BaseModel):\n",
    "    title: str\n",
    "    sentiment: str  # 'positive' or 'negative'\n",
    "    key_points: List[str]"
   ]
  },
  {
   "cell_type": "code",
   "execution_count": 6,
   "id": "80f80d0d",
   "metadata": {},
   "outputs": [],
   "source": [
    "gaurd = Guard.for_pydantic(output_class=MovieReview)"
   ]
  },
  {
   "cell_type": "code",
   "execution_count": 7,
   "id": "bb15a9c5",
   "metadata": {},
   "outputs": [
    {
     "data": {
      "text/plain": [
       "Guard(id='6WXMGJ', name='gr-6WXMGJ', description=None, validators=[], output_schema=ModelSchema(definitions=None, dependencies=None, anchor=None, ref=None, dynamic_ref=None, dynamic_anchor=None, vocabulary=None, comment=None, defs=None, prefix_items=None, items=None, contains=None, additional_properties=None, properties={'title': {'title': 'Title', 'type': 'string'}, 'sentiment': {'title': 'Sentiment', 'type': 'string'}, 'key_points': {'items': {'type': 'string'}, 'title': 'Key Points', 'type': 'array'}}, pattern_properties=None, dependent_schemas=None, property_names=None, var_if=None, then=None, var_else=None, all_of=None, any_of=None, one_of=None, var_not=None, unevaluated_items=None, unevaluated_properties=None, multiple_of=None, maximum=None, exclusive_maximum=None, minimum=None, exclusive_minimum=None, max_length=None, min_length=None, pattern=None, max_items=None, min_items=None, unique_items=None, max_contains=None, min_contains=None, max_properties=None, min_properties=None, required=['title', 'sentiment', 'key_points'], dependent_required=None, const=None, enum=None, type=ValidationType(anyof_schema_1_validator=None, anyof_schema_2_validator=None, actual_instance=<SimpleTypes.OBJECT: 'object'>, any_of_schemas={'List[SimpleTypes]', 'SimpleTypes'}), title='MovieReview', description=None, default=None, deprecated=None, read_only=None, write_only=None, examples=None, format=None, content_media_type=None, content_encoding=None, content_schema=None), history=[])"
      ]
     },
     "execution_count": 7,
     "metadata": {},
     "output_type": "execute_result"
    }
   ],
   "source": [
    "gaurd"
   ]
  },
  {
   "cell_type": "code",
   "execution_count": 11,
   "id": "e4b7708c",
   "metadata": {},
   "outputs": [],
   "source": [
    "# Sample output from LLM (just for simulation purpose)\n",
    "\n",
    "raw_output = \"\"\"\n",
    "{\n",
    "  \"title\": \"Avengers Endgame\",\n",
    "  \"sentiment\": \"positive\",\n",
    "  \"key_points\": [\"Mind-bending plot\", \"Brilliant direction\"]\n",
    "}\n",
    "\"\"\""
   ]
  },
  {
   "cell_type": "code",
   "execution_count": 12,
   "id": "ddf417b2",
   "metadata": {},
   "outputs": [
    {
     "data": {
      "text/plain": [
       "ValidationOutcome(call_id='4544145328', raw_llm_output='\\n{\\n  \"title\": \"Avengers Endgame\",\\n  \"sentiment\": \"positive\",\\n  \"key_points\": [\"Mind-bending plot\", \"Brilliant direction\"]\\n}\\n', validation_summaries=[], validated_output={'title': 'Avengers Endgame', 'sentiment': 'positive', 'key_points': ['Mind-bending plot', 'Brilliant direction']}, reask=None, validation_passed=True, error=None)"
      ]
     },
     "execution_count": 12,
     "metadata": {},
     "output_type": "execute_result"
    }
   ],
   "source": [
    "validated_output = gaurd.parse(raw_output)\n",
    "validated_output"
   ]
  },
  {
   "cell_type": "code",
   "execution_count": 16,
   "id": "df01b976",
   "metadata": {},
   "outputs": [],
   "source": [
    "## Check the validation\n",
    "def check_validation(validated_output):\n",
    "    if validated_output.validation_passed:\n",
    "        print(\"Validation Passed!\")\n",
    "        print(validated_output.validated_output)\n",
    "    else:\n",
    "        print(\"Validation Failed!\")\n",
    "        print(\"Reason:\", validated_output.reask.fail_results[0].error_message)"
   ]
  },
  {
   "cell_type": "code",
   "execution_count": 17,
   "id": "896a7f49",
   "metadata": {},
   "outputs": [
    {
     "name": "stdout",
     "output_type": "stream",
     "text": [
      "Validation Passed!\n",
      "{'title': 'Avengers Endgame', 'sentiment': 'positive', 'key_points': ['Mind-bending plot', 'Brilliant direction']}\n"
     ]
    }
   ],
   "source": [
    "check_validation(validated_output)"
   ]
  },
  {
   "cell_type": "code",
   "execution_count": 14,
   "id": "69e28b84",
   "metadata": {},
   "outputs": [],
   "source": [
    "## Another sample output from LLM (just for simulation purpose)\n",
    "raw_output = '''\n",
    "{\n",
    "  \"title\": \"Inception\",\n",
    "  \"key_points\": [\"Mind-bending plot\", \"Brilliant direction\"]\n",
    "}\n",
    "'''"
   ]
  },
  {
   "cell_type": "code",
   "execution_count": 18,
   "id": "8993287f",
   "metadata": {},
   "outputs": [
    {
     "name": "stdout",
     "output_type": "stream",
     "text": [
      "Validation Failed!\n",
      "Reason: JSON does not match schema:\n",
      "{\n",
      "  \"$\": [\n",
      "    \"'sentiment' is a required property\"\n",
      "  ]\n",
      "}\n"
     ]
    }
   ],
   "source": [
    "failed_output = gaurd.parse(raw_output)\n",
    "check_validation(failed_output)"
   ]
  },
  {
   "cell_type": "code",
   "execution_count": null,
   "id": "3f6459b5",
   "metadata": {},
   "outputs": [],
   "source": []
  }
 ],
 "metadata": {
  "kernelspec": {
   "display_name": "Gaurdrails_Practice",
   "language": "python",
   "name": "python3"
  },
  "language_info": {
   "codemirror_mode": {
    "name": "ipython",
    "version": 3
   },
   "file_extension": ".py",
   "mimetype": "text/x-python",
   "name": "python",
   "nbconvert_exporter": "python",
   "pygments_lexer": "ipython3",
   "version": "3.11.8"
  }
 },
 "nbformat": 4,
 "nbformat_minor": 5
}
